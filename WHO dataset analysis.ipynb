{
 "cells": [
  {
   "cell_type": "raw",
   "id": "e917ee91",
   "metadata": {},
   "source": [
    "In the following I will analyse data on \"WHO.csv\". Numpy, Pandas, matplotlib and seaborn libraries will be used in this analysis.\n",
    "\n",
    "I'll perform some descriptive analysis tasks on this dataset."
   ]
  },
  {
   "cell_type": "code",
   "execution_count": 1,
   "id": "770ead22",
   "metadata": {},
   "outputs": [],
   "source": [
    "# Import libraries\n",
    "import pandas as pd\n",
    "import numpy as np\n",
    "import matplotlib.pyplot as plt\n",
    "import seaborn as sns\n",
    "%matplotlib inline"
   ]
  },
  {
   "cell_type": "code",
   "execution_count": 15,
   "id": "138ecc21",
   "metadata": {},
   "outputs": [
    {
     "data": {
      "text/html": [
       "<div>\n",
       "<style scoped>\n",
       "    .dataframe tbody tr th:only-of-type {\n",
       "        vertical-align: middle;\n",
       "    }\n",
       "\n",
       "    .dataframe tbody tr th {\n",
       "        vertical-align: top;\n",
       "    }\n",
       "\n",
       "    .dataframe thead th {\n",
       "        text-align: right;\n",
       "    }\n",
       "</style>\n",
       "<table border=\"1\" class=\"dataframe\">\n",
       "  <thead>\n",
       "    <tr style=\"text-align: right;\">\n",
       "      <th></th>\n",
       "      <th>Population</th>\n",
       "      <th>Under15</th>\n",
       "      <th>Over60</th>\n",
       "      <th>FertilityRate</th>\n",
       "      <th>LifeExpectancy</th>\n",
       "      <th>ChildMortality</th>\n",
       "      <th>CellularSubscribers</th>\n",
       "      <th>LiteracyRate</th>\n",
       "      <th>GNI</th>\n",
       "      <th>PrimarySchoolEnrollmentMale</th>\n",
       "      <th>PrimarySchoolEnrollmentFemale</th>\n",
       "    </tr>\n",
       "  </thead>\n",
       "  <tbody>\n",
       "    <tr>\n",
       "      <th>count</th>\n",
       "      <td>1.940000e+02</td>\n",
       "      <td>194.000000</td>\n",
       "      <td>194.000000</td>\n",
       "      <td>183.000000</td>\n",
       "      <td>194.000000</td>\n",
       "      <td>194.000000</td>\n",
       "      <td>184.000000</td>\n",
       "      <td>103.000000</td>\n",
       "      <td>162.000000</td>\n",
       "      <td>101.000000</td>\n",
       "      <td>101.000000</td>\n",
       "    </tr>\n",
       "    <tr>\n",
       "      <th>mean</th>\n",
       "      <td>3.635997e+04</td>\n",
       "      <td>28.732423</td>\n",
       "      <td>11.163660</td>\n",
       "      <td>2.940656</td>\n",
       "      <td>70.010309</td>\n",
       "      <td>36.148969</td>\n",
       "      <td>93.641522</td>\n",
       "      <td>83.710680</td>\n",
       "      <td>13320.925926</td>\n",
       "      <td>90.850495</td>\n",
       "      <td>89.632673</td>\n",
       "    </tr>\n",
       "    <tr>\n",
       "      <th>std</th>\n",
       "      <td>1.379031e+05</td>\n",
       "      <td>10.534573</td>\n",
       "      <td>7.149331</td>\n",
       "      <td>1.480984</td>\n",
       "      <td>9.259075</td>\n",
       "      <td>37.992935</td>\n",
       "      <td>41.400447</td>\n",
       "      <td>17.530645</td>\n",
       "      <td>15192.988650</td>\n",
       "      <td>11.017147</td>\n",
       "      <td>12.817614</td>\n",
       "    </tr>\n",
       "    <tr>\n",
       "      <th>min</th>\n",
       "      <td>1.000000e+00</td>\n",
       "      <td>13.120000</td>\n",
       "      <td>0.810000</td>\n",
       "      <td>1.260000</td>\n",
       "      <td>47.000000</td>\n",
       "      <td>2.200000</td>\n",
       "      <td>2.570000</td>\n",
       "      <td>31.100000</td>\n",
       "      <td>340.000000</td>\n",
       "      <td>37.200000</td>\n",
       "      <td>32.500000</td>\n",
       "    </tr>\n",
       "    <tr>\n",
       "      <th>25%</th>\n",
       "      <td>1.695750e+03</td>\n",
       "      <td>18.717500</td>\n",
       "      <td>5.200000</td>\n",
       "      <td>1.835000</td>\n",
       "      <td>64.000000</td>\n",
       "      <td>8.425000</td>\n",
       "      <td>63.567500</td>\n",
       "      <td>71.600000</td>\n",
       "      <td>2335.000000</td>\n",
       "      <td>87.700000</td>\n",
       "      <td>87.300000</td>\n",
       "    </tr>\n",
       "    <tr>\n",
       "      <th>50%</th>\n",
       "      <td>7.790000e+03</td>\n",
       "      <td>28.650000</td>\n",
       "      <td>8.530000</td>\n",
       "      <td>2.400000</td>\n",
       "      <td>72.500000</td>\n",
       "      <td>18.600000</td>\n",
       "      <td>97.745000</td>\n",
       "      <td>91.800000</td>\n",
       "      <td>7870.000000</td>\n",
       "      <td>94.700000</td>\n",
       "      <td>95.100000</td>\n",
       "    </tr>\n",
       "    <tr>\n",
       "      <th>75%</th>\n",
       "      <td>2.453525e+04</td>\n",
       "      <td>37.752500</td>\n",
       "      <td>16.687500</td>\n",
       "      <td>3.905000</td>\n",
       "      <td>76.000000</td>\n",
       "      <td>55.975000</td>\n",
       "      <td>120.805000</td>\n",
       "      <td>97.850000</td>\n",
       "      <td>17557.500000</td>\n",
       "      <td>98.100000</td>\n",
       "      <td>97.900000</td>\n",
       "    </tr>\n",
       "    <tr>\n",
       "      <th>max</th>\n",
       "      <td>1.390000e+06</td>\n",
       "      <td>49.990000</td>\n",
       "      <td>31.920000</td>\n",
       "      <td>7.580000</td>\n",
       "      <td>83.000000</td>\n",
       "      <td>181.600000</td>\n",
       "      <td>196.410000</td>\n",
       "      <td>99.800000</td>\n",
       "      <td>86440.000000</td>\n",
       "      <td>100.000000</td>\n",
       "      <td>100.000000</td>\n",
       "    </tr>\n",
       "  </tbody>\n",
       "</table>\n",
       "</div>"
      ],
      "text/plain": [
       "         Population     Under15      Over60  FertilityRate  LifeExpectancy  \\\n",
       "count  1.940000e+02  194.000000  194.000000     183.000000      194.000000   \n",
       "mean   3.635997e+04   28.732423   11.163660       2.940656       70.010309   \n",
       "std    1.379031e+05   10.534573    7.149331       1.480984        9.259075   \n",
       "min    1.000000e+00   13.120000    0.810000       1.260000       47.000000   \n",
       "25%    1.695750e+03   18.717500    5.200000       1.835000       64.000000   \n",
       "50%    7.790000e+03   28.650000    8.530000       2.400000       72.500000   \n",
       "75%    2.453525e+04   37.752500   16.687500       3.905000       76.000000   \n",
       "max    1.390000e+06   49.990000   31.920000       7.580000       83.000000   \n",
       "\n",
       "       ChildMortality  CellularSubscribers  LiteracyRate           GNI  \\\n",
       "count      194.000000           184.000000    103.000000    162.000000   \n",
       "mean        36.148969            93.641522     83.710680  13320.925926   \n",
       "std         37.992935            41.400447     17.530645  15192.988650   \n",
       "min          2.200000             2.570000     31.100000    340.000000   \n",
       "25%          8.425000            63.567500     71.600000   2335.000000   \n",
       "50%         18.600000            97.745000     91.800000   7870.000000   \n",
       "75%         55.975000           120.805000     97.850000  17557.500000   \n",
       "max        181.600000           196.410000     99.800000  86440.000000   \n",
       "\n",
       "       PrimarySchoolEnrollmentMale  PrimarySchoolEnrollmentFemale  \n",
       "count                   101.000000                     101.000000  \n",
       "mean                     90.850495                      89.632673  \n",
       "std                      11.017147                      12.817614  \n",
       "min                      37.200000                      32.500000  \n",
       "25%                      87.700000                      87.300000  \n",
       "50%                      94.700000                      95.100000  \n",
       "75%                      98.100000                      97.900000  \n",
       "max                     100.000000                     100.000000  "
      ]
     },
     "execution_count": 15,
     "metadata": {},
     "output_type": "execute_result"
    }
   ],
   "source": [
    "# Import data\n",
    "WHO = pd.read_csv('WHO.csv')\n",
    "WHO.describe()"
   ]
  },
  {
   "cell_type": "code",
   "execution_count": 16,
   "id": "e61ae9b9",
   "metadata": {},
   "outputs": [
    {
     "data": {
      "text/html": [
       "<div>\n",
       "<style scoped>\n",
       "    .dataframe tbody tr th:only-of-type {\n",
       "        vertical-align: middle;\n",
       "    }\n",
       "\n",
       "    .dataframe tbody tr th {\n",
       "        vertical-align: top;\n",
       "    }\n",
       "\n",
       "    .dataframe thead th {\n",
       "        text-align: right;\n",
       "    }\n",
       "</style>\n",
       "<table border=\"1\" class=\"dataframe\">\n",
       "  <thead>\n",
       "    <tr style=\"text-align: right;\">\n",
       "      <th></th>\n",
       "      <th>Country</th>\n",
       "      <th>Region</th>\n",
       "      <th>Population</th>\n",
       "      <th>Under15</th>\n",
       "      <th>Over60</th>\n",
       "      <th>FertilityRate</th>\n",
       "      <th>LifeExpectancy</th>\n",
       "      <th>ChildMortality</th>\n",
       "      <th>CellularSubscribers</th>\n",
       "      <th>LiteracyRate</th>\n",
       "      <th>GNI</th>\n",
       "      <th>PrimarySchoolEnrollmentMale</th>\n",
       "      <th>PrimarySchoolEnrollmentFemale</th>\n",
       "    </tr>\n",
       "  </thead>\n",
       "  <tbody>\n",
       "    <tr>\n",
       "      <th>0</th>\n",
       "      <td>False</td>\n",
       "      <td>False</td>\n",
       "      <td>False</td>\n",
       "      <td>False</td>\n",
       "      <td>False</td>\n",
       "      <td>False</td>\n",
       "      <td>False</td>\n",
       "      <td>False</td>\n",
       "      <td>False</td>\n",
       "      <td>True</td>\n",
       "      <td>False</td>\n",
       "      <td>True</td>\n",
       "      <td>True</td>\n",
       "    </tr>\n",
       "    <tr>\n",
       "      <th>1</th>\n",
       "      <td>False</td>\n",
       "      <td>False</td>\n",
       "      <td>False</td>\n",
       "      <td>False</td>\n",
       "      <td>False</td>\n",
       "      <td>False</td>\n",
       "      <td>False</td>\n",
       "      <td>False</td>\n",
       "      <td>False</td>\n",
       "      <td>True</td>\n",
       "      <td>False</td>\n",
       "      <td>True</td>\n",
       "      <td>True</td>\n",
       "    </tr>\n",
       "    <tr>\n",
       "      <th>2</th>\n",
       "      <td>False</td>\n",
       "      <td>False</td>\n",
       "      <td>False</td>\n",
       "      <td>False</td>\n",
       "      <td>False</td>\n",
       "      <td>False</td>\n",
       "      <td>False</td>\n",
       "      <td>False</td>\n",
       "      <td>False</td>\n",
       "      <td>True</td>\n",
       "      <td>False</td>\n",
       "      <td>False</td>\n",
       "      <td>False</td>\n",
       "    </tr>\n",
       "    <tr>\n",
       "      <th>3</th>\n",
       "      <td>False</td>\n",
       "      <td>False</td>\n",
       "      <td>False</td>\n",
       "      <td>False</td>\n",
       "      <td>False</td>\n",
       "      <td>True</td>\n",
       "      <td>False</td>\n",
       "      <td>False</td>\n",
       "      <td>False</td>\n",
       "      <td>True</td>\n",
       "      <td>True</td>\n",
       "      <td>False</td>\n",
       "      <td>False</td>\n",
       "    </tr>\n",
       "    <tr>\n",
       "      <th>4</th>\n",
       "      <td>False</td>\n",
       "      <td>False</td>\n",
       "      <td>False</td>\n",
       "      <td>False</td>\n",
       "      <td>False</td>\n",
       "      <td>False</td>\n",
       "      <td>False</td>\n",
       "      <td>False</td>\n",
       "      <td>False</td>\n",
       "      <td>False</td>\n",
       "      <td>False</td>\n",
       "      <td>False</td>\n",
       "      <td>False</td>\n",
       "    </tr>\n",
       "    <tr>\n",
       "      <th>...</th>\n",
       "      <td>...</td>\n",
       "      <td>...</td>\n",
       "      <td>...</td>\n",
       "      <td>...</td>\n",
       "      <td>...</td>\n",
       "      <td>...</td>\n",
       "      <td>...</td>\n",
       "      <td>...</td>\n",
       "      <td>...</td>\n",
       "      <td>...</td>\n",
       "      <td>...</td>\n",
       "      <td>...</td>\n",
       "      <td>...</td>\n",
       "    </tr>\n",
       "    <tr>\n",
       "      <th>189</th>\n",
       "      <td>False</td>\n",
       "      <td>False</td>\n",
       "      <td>False</td>\n",
       "      <td>False</td>\n",
       "      <td>False</td>\n",
       "      <td>False</td>\n",
       "      <td>False</td>\n",
       "      <td>False</td>\n",
       "      <td>False</td>\n",
       "      <td>True</td>\n",
       "      <td>False</td>\n",
       "      <td>False</td>\n",
       "      <td>False</td>\n",
       "    </tr>\n",
       "    <tr>\n",
       "      <th>190</th>\n",
       "      <td>False</td>\n",
       "      <td>False</td>\n",
       "      <td>False</td>\n",
       "      <td>False</td>\n",
       "      <td>False</td>\n",
       "      <td>False</td>\n",
       "      <td>False</td>\n",
       "      <td>False</td>\n",
       "      <td>False</td>\n",
       "      <td>False</td>\n",
       "      <td>False</td>\n",
       "      <td>True</td>\n",
       "      <td>True</td>\n",
       "    </tr>\n",
       "    <tr>\n",
       "      <th>191</th>\n",
       "      <td>False</td>\n",
       "      <td>False</td>\n",
       "      <td>False</td>\n",
       "      <td>False</td>\n",
       "      <td>False</td>\n",
       "      <td>False</td>\n",
       "      <td>False</td>\n",
       "      <td>False</td>\n",
       "      <td>False</td>\n",
       "      <td>False</td>\n",
       "      <td>False</td>\n",
       "      <td>False</td>\n",
       "      <td>False</td>\n",
       "    </tr>\n",
       "    <tr>\n",
       "      <th>192</th>\n",
       "      <td>False</td>\n",
       "      <td>False</td>\n",
       "      <td>False</td>\n",
       "      <td>False</td>\n",
       "      <td>False</td>\n",
       "      <td>False</td>\n",
       "      <td>False</td>\n",
       "      <td>False</td>\n",
       "      <td>False</td>\n",
       "      <td>False</td>\n",
       "      <td>False</td>\n",
       "      <td>False</td>\n",
       "      <td>False</td>\n",
       "    </tr>\n",
       "    <tr>\n",
       "      <th>193</th>\n",
       "      <td>False</td>\n",
       "      <td>False</td>\n",
       "      <td>False</td>\n",
       "      <td>False</td>\n",
       "      <td>False</td>\n",
       "      <td>False</td>\n",
       "      <td>False</td>\n",
       "      <td>False</td>\n",
       "      <td>False</td>\n",
       "      <td>False</td>\n",
       "      <td>True</td>\n",
       "      <td>True</td>\n",
       "      <td>True</td>\n",
       "    </tr>\n",
       "  </tbody>\n",
       "</table>\n",
       "<p>194 rows × 13 columns</p>\n",
       "</div>"
      ],
      "text/plain": [
       "     Country  Region  Population  Under15  Over60  FertilityRate  \\\n",
       "0      False   False       False    False   False          False   \n",
       "1      False   False       False    False   False          False   \n",
       "2      False   False       False    False   False          False   \n",
       "3      False   False       False    False   False           True   \n",
       "4      False   False       False    False   False          False   \n",
       "..       ...     ...         ...      ...     ...            ...   \n",
       "189    False   False       False    False   False          False   \n",
       "190    False   False       False    False   False          False   \n",
       "191    False   False       False    False   False          False   \n",
       "192    False   False       False    False   False          False   \n",
       "193    False   False       False    False   False          False   \n",
       "\n",
       "     LifeExpectancy  ChildMortality  CellularSubscribers  LiteracyRate    GNI  \\\n",
       "0             False           False                False          True  False   \n",
       "1             False           False                False          True  False   \n",
       "2             False           False                False          True  False   \n",
       "3             False           False                False          True   True   \n",
       "4             False           False                False         False  False   \n",
       "..              ...             ...                  ...           ...    ...   \n",
       "189           False           False                False          True  False   \n",
       "190           False           False                False         False  False   \n",
       "191           False           False                False         False  False   \n",
       "192           False           False                False         False  False   \n",
       "193           False           False                False         False   True   \n",
       "\n",
       "     PrimarySchoolEnrollmentMale  PrimarySchoolEnrollmentFemale  \n",
       "0                           True                           True  \n",
       "1                           True                           True  \n",
       "2                          False                          False  \n",
       "3                          False                          False  \n",
       "4                          False                          False  \n",
       "..                           ...                            ...  \n",
       "189                        False                          False  \n",
       "190                         True                           True  \n",
       "191                        False                          False  \n",
       "192                        False                          False  \n",
       "193                         True                           True  \n",
       "\n",
       "[194 rows x 13 columns]"
      ]
     },
     "execution_count": 16,
     "metadata": {},
     "output_type": "execute_result"
    }
   ],
   "source": [
    "WHO.isnull()"
   ]
  },
  {
   "cell_type": "markdown",
   "id": "04d5c08c",
   "metadata": {},
   "source": [
    "Handling missing values: there are few columns have some missing values. Calculating the mean value of the groups in the column resulted from grouping by region, and then fill in the missing value for a country as the mean for the countries from the same region."
   ]
  },
  {
   "cell_type": "code",
   "execution_count": 30,
   "id": "38433ce5",
   "metadata": {},
   "outputs": [],
   "source": [
    "# Filling missing values \n",
    "\n",
    "def mean_replace(g):\n",
    "    return g.fillna(g.mean())\n",
    "# List of columns with missing values\n",
    "col_list = ['FertilityRate', 'CellularSubscribers', 'LiteracyRate', 'GNI', 'PrimarySchoolEnrollmentMale',\n",
    "            'PrimarySchoolEnrollmentFemale']\n",
    "for col in col_list:\n",
    "    WHO[col] = WHO.groupby('Region')[col].apply(mean_replace)"
   ]
  },
  {
   "cell_type": "code",
   "execution_count": 18,
   "id": "dff1fa2a",
   "metadata": {},
   "outputs": [
    {
     "data": {
      "text/html": [
       "<div>\n",
       "<style scoped>\n",
       "    .dataframe tbody tr th:only-of-type {\n",
       "        vertical-align: middle;\n",
       "    }\n",
       "\n",
       "    .dataframe tbody tr th {\n",
       "        vertical-align: top;\n",
       "    }\n",
       "\n",
       "    .dataframe thead th {\n",
       "        text-align: right;\n",
       "    }\n",
       "</style>\n",
       "<table border=\"1\" class=\"dataframe\">\n",
       "  <thead>\n",
       "    <tr style=\"text-align: right;\">\n",
       "      <th></th>\n",
       "      <th>Country</th>\n",
       "      <th>Region</th>\n",
       "      <th>Population</th>\n",
       "      <th>Under15</th>\n",
       "      <th>Over60</th>\n",
       "      <th>FertilityRate</th>\n",
       "      <th>LifeExpectancy</th>\n",
       "      <th>ChildMortality</th>\n",
       "      <th>CellularSubscribers</th>\n",
       "      <th>LiteracyRate</th>\n",
       "      <th>GNI</th>\n",
       "      <th>PrimarySchoolEnrollmentMale</th>\n",
       "      <th>PrimarySchoolEnrollmentFemale</th>\n",
       "    </tr>\n",
       "  </thead>\n",
       "  <tbody>\n",
       "    <tr>\n",
       "      <th>0</th>\n",
       "      <td>False</td>\n",
       "      <td>False</td>\n",
       "      <td>False</td>\n",
       "      <td>False</td>\n",
       "      <td>False</td>\n",
       "      <td>False</td>\n",
       "      <td>False</td>\n",
       "      <td>False</td>\n",
       "      <td>False</td>\n",
       "      <td>False</td>\n",
       "      <td>False</td>\n",
       "      <td>False</td>\n",
       "      <td>False</td>\n",
       "    </tr>\n",
       "    <tr>\n",
       "      <th>1</th>\n",
       "      <td>False</td>\n",
       "      <td>False</td>\n",
       "      <td>False</td>\n",
       "      <td>False</td>\n",
       "      <td>False</td>\n",
       "      <td>False</td>\n",
       "      <td>False</td>\n",
       "      <td>False</td>\n",
       "      <td>False</td>\n",
       "      <td>False</td>\n",
       "      <td>False</td>\n",
       "      <td>False</td>\n",
       "      <td>False</td>\n",
       "    </tr>\n",
       "    <tr>\n",
       "      <th>2</th>\n",
       "      <td>False</td>\n",
       "      <td>False</td>\n",
       "      <td>False</td>\n",
       "      <td>False</td>\n",
       "      <td>False</td>\n",
       "      <td>False</td>\n",
       "      <td>False</td>\n",
       "      <td>False</td>\n",
       "      <td>False</td>\n",
       "      <td>False</td>\n",
       "      <td>False</td>\n",
       "      <td>False</td>\n",
       "      <td>False</td>\n",
       "    </tr>\n",
       "    <tr>\n",
       "      <th>3</th>\n",
       "      <td>False</td>\n",
       "      <td>False</td>\n",
       "      <td>False</td>\n",
       "      <td>False</td>\n",
       "      <td>False</td>\n",
       "      <td>False</td>\n",
       "      <td>False</td>\n",
       "      <td>False</td>\n",
       "      <td>False</td>\n",
       "      <td>False</td>\n",
       "      <td>False</td>\n",
       "      <td>False</td>\n",
       "      <td>False</td>\n",
       "    </tr>\n",
       "    <tr>\n",
       "      <th>4</th>\n",
       "      <td>False</td>\n",
       "      <td>False</td>\n",
       "      <td>False</td>\n",
       "      <td>False</td>\n",
       "      <td>False</td>\n",
       "      <td>False</td>\n",
       "      <td>False</td>\n",
       "      <td>False</td>\n",
       "      <td>False</td>\n",
       "      <td>False</td>\n",
       "      <td>False</td>\n",
       "      <td>False</td>\n",
       "      <td>False</td>\n",
       "    </tr>\n",
       "    <tr>\n",
       "      <th>...</th>\n",
       "      <td>...</td>\n",
       "      <td>...</td>\n",
       "      <td>...</td>\n",
       "      <td>...</td>\n",
       "      <td>...</td>\n",
       "      <td>...</td>\n",
       "      <td>...</td>\n",
       "      <td>...</td>\n",
       "      <td>...</td>\n",
       "      <td>...</td>\n",
       "      <td>...</td>\n",
       "      <td>...</td>\n",
       "      <td>...</td>\n",
       "    </tr>\n",
       "    <tr>\n",
       "      <th>189</th>\n",
       "      <td>False</td>\n",
       "      <td>False</td>\n",
       "      <td>False</td>\n",
       "      <td>False</td>\n",
       "      <td>False</td>\n",
       "      <td>False</td>\n",
       "      <td>False</td>\n",
       "      <td>False</td>\n",
       "      <td>False</td>\n",
       "      <td>False</td>\n",
       "      <td>False</td>\n",
       "      <td>False</td>\n",
       "      <td>False</td>\n",
       "    </tr>\n",
       "    <tr>\n",
       "      <th>190</th>\n",
       "      <td>False</td>\n",
       "      <td>False</td>\n",
       "      <td>False</td>\n",
       "      <td>False</td>\n",
       "      <td>False</td>\n",
       "      <td>False</td>\n",
       "      <td>False</td>\n",
       "      <td>False</td>\n",
       "      <td>False</td>\n",
       "      <td>False</td>\n",
       "      <td>False</td>\n",
       "      <td>False</td>\n",
       "      <td>False</td>\n",
       "    </tr>\n",
       "    <tr>\n",
       "      <th>191</th>\n",
       "      <td>False</td>\n",
       "      <td>False</td>\n",
       "      <td>False</td>\n",
       "      <td>False</td>\n",
       "      <td>False</td>\n",
       "      <td>False</td>\n",
       "      <td>False</td>\n",
       "      <td>False</td>\n",
       "      <td>False</td>\n",
       "      <td>False</td>\n",
       "      <td>False</td>\n",
       "      <td>False</td>\n",
       "      <td>False</td>\n",
       "    </tr>\n",
       "    <tr>\n",
       "      <th>192</th>\n",
       "      <td>False</td>\n",
       "      <td>False</td>\n",
       "      <td>False</td>\n",
       "      <td>False</td>\n",
       "      <td>False</td>\n",
       "      <td>False</td>\n",
       "      <td>False</td>\n",
       "      <td>False</td>\n",
       "      <td>False</td>\n",
       "      <td>False</td>\n",
       "      <td>False</td>\n",
       "      <td>False</td>\n",
       "      <td>False</td>\n",
       "    </tr>\n",
       "    <tr>\n",
       "      <th>193</th>\n",
       "      <td>False</td>\n",
       "      <td>False</td>\n",
       "      <td>False</td>\n",
       "      <td>False</td>\n",
       "      <td>False</td>\n",
       "      <td>False</td>\n",
       "      <td>False</td>\n",
       "      <td>False</td>\n",
       "      <td>False</td>\n",
       "      <td>False</td>\n",
       "      <td>False</td>\n",
       "      <td>False</td>\n",
       "      <td>False</td>\n",
       "    </tr>\n",
       "  </tbody>\n",
       "</table>\n",
       "<p>194 rows × 13 columns</p>\n",
       "</div>"
      ],
      "text/plain": [
       "     Country  Region  Population  Under15  Over60  FertilityRate  \\\n",
       "0      False   False       False    False   False          False   \n",
       "1      False   False       False    False   False          False   \n",
       "2      False   False       False    False   False          False   \n",
       "3      False   False       False    False   False          False   \n",
       "4      False   False       False    False   False          False   \n",
       "..       ...     ...         ...      ...     ...            ...   \n",
       "189    False   False       False    False   False          False   \n",
       "190    False   False       False    False   False          False   \n",
       "191    False   False       False    False   False          False   \n",
       "192    False   False       False    False   False          False   \n",
       "193    False   False       False    False   False          False   \n",
       "\n",
       "     LifeExpectancy  ChildMortality  CellularSubscribers  LiteracyRate    GNI  \\\n",
       "0             False           False                False         False  False   \n",
       "1             False           False                False         False  False   \n",
       "2             False           False                False         False  False   \n",
       "3             False           False                False         False  False   \n",
       "4             False           False                False         False  False   \n",
       "..              ...             ...                  ...           ...    ...   \n",
       "189           False           False                False         False  False   \n",
       "190           False           False                False         False  False   \n",
       "191           False           False                False         False  False   \n",
       "192           False           False                False         False  False   \n",
       "193           False           False                False         False  False   \n",
       "\n",
       "     PrimarySchoolEnrollmentMale  PrimarySchoolEnrollmentFemale  \n",
       "0                          False                          False  \n",
       "1                          False                          False  \n",
       "2                          False                          False  \n",
       "3                          False                          False  \n",
       "4                          False                          False  \n",
       "..                           ...                            ...  \n",
       "189                        False                          False  \n",
       "190                        False                          False  \n",
       "191                        False                          False  \n",
       "192                        False                          False  \n",
       "193                        False                          False  \n",
       "\n",
       "[194 rows x 13 columns]"
      ]
     },
     "execution_count": 18,
     "metadata": {},
     "output_type": "execute_result"
    }
   ],
   "source": [
    "WHO.isnull() ## Checking the missing values "
   ]
  },
  {
   "cell_type": "markdown",
   "id": "4c4f27a1",
   "metadata": {},
   "source": [
    "Visualization: creating 4 plots of any choice for example histograms, boxplots etc. At least two of the plots should involve data from two separate columns (for example a boxplot of a column grouped by region, or a heatmap depicting the relationship of values in two columns)."
   ]
  },
  {
   "cell_type": "code",
   "execution_count": 19,
   "id": "95a49953",
   "metadata": {},
   "outputs": [
    {
     "name": "stderr",
     "output_type": "stream",
     "text": [
      "/Users/mdmominulislam/opt/anaconda3/lib/python3.9/site-packages/seaborn/distributions.py:2619: FutureWarning: `distplot` is a deprecated function and will be removed in a future version. Please adapt your code to use either `displot` (a figure-level function with similar flexibility) or `histplot` (an axes-level function for histograms).\n",
      "  warnings.warn(msg, FutureWarning)\n"
     ]
    },
    {
     "data": {
      "text/plain": [
       "<AxesSubplot:xlabel='Population', ylabel='Density'>"
      ]
     },
     "execution_count": 19,
     "metadata": {},
     "output_type": "execute_result"
    },
    {
     "data": {
      "image/png": "[encoded data removed]",
      "text/plain": [
       "<Figure size 432x288 with 1 Axes>"
      ]
     },
     "metadata": {
      "needs_background": "light"
     },
     "output_type": "display_data"
    }
   ],
   "source": [
    "# Creating 4 different plots by any choice.\n",
    "sns.distplot(WHO.Population)"
   ]
  },
  {
   "cell_type": "code",
   "execution_count": 20,
   "id": "287559ae",
   "metadata": {},
   "outputs": [
    {
     "data": {
      "text/plain": [
       "<AxesSubplot:xlabel='Region', ylabel='ChildMortality'>"
      ]
     },
     "execution_count": 20,
     "metadata": {},
     "output_type": "execute_result"
    },
    {
     "data": {
      "image/png": "[encoded data removed]",
      "text/plain": [
       "<Figure size 432x288 with 1 Axes>"
      ]
     },
     "metadata": {
      "needs_background": "light"
     },
     "output_type": "display_data"
    }
   ],
   "source": [
    "sns.boxplot(x = 'Region', y = 'ChildMortality', data = WHO, orient = 'v')"
   ]
  },
  {
   "cell_type": "code",
   "execution_count": 21,
   "id": "f050d4ed",
   "metadata": {},
   "outputs": [
    {
     "data": {
      "text/plain": [
       "<AxesSubplot:>"
      ]
     },
     "execution_count": 21,
     "metadata": {},
     "output_type": "execute_result"
    },
    {
     "data": {
      "image/png": "[encoded data removed]",
      "text/plain": [
       "<Figure size 432x288 with 2 Axes>"
      ]
     },
     "metadata": {
      "needs_background": "light"
     },
     "output_type": "display_data"
    }
   ],
   "source": [
    "sns.heatmap(WHO.corr())"
   ]
  },
  {
   "cell_type": "markdown",
   "id": "e380d3d2",
   "metadata": {},
   "source": [
    "Data understanding: Focusing on the column GNI, and try to understand what other variables have an impact on/are related to it. (i) some plots on the relationship between GNI and some other variables, (ii) calculating the correlation between GNI and other variables, (iii) discretizing a variable and look at summary statistics of GNI over the resulting groups. The output of this analysis should be a set of three variables that has been identified to be related to GNI."
   ]
  },
  {
   "cell_type": "code",
   "execution_count": 22,
   "id": "e8d6f38e",
   "metadata": {},
   "outputs": [
    {
     "data": {
      "text/plain": [
       "Population                      -0.036713\n",
       "Under15                         -0.660352\n",
       "Over60                           0.600572\n",
       "FertilityRate                   -0.522398\n",
       "LifeExpectancy                   0.632628\n",
       "ChildMortality                  -0.520827\n",
       "CellularSubscribers              0.485501\n",
       "LiteracyRate                     0.488540\n",
       "GNI                              1.000000\n",
       "PrimarySchoolEnrollmentMale      0.368036\n",
       "PrimarySchoolEnrollmentFemale    0.395113\n",
       "Name: GNI, dtype: float64"
      ]
     },
     "execution_count": 22,
     "metadata": {},
     "output_type": "execute_result"
    }
   ],
   "source": [
    "## Data understanding:\n",
    "## Trying to understand what other variables have an impact on/are related to column GNI.\n",
    "## GNI and correlation\n",
    "\n",
    "WHO.corr()['GNI']"
   ]
  },
  {
   "cell_type": "code",
   "execution_count": 23,
   "id": "f6e8757e",
   "metadata": {},
   "outputs": [
    {
     "name": "stderr",
     "output_type": "stream",
     "text": [
      "/Users/mdmominulislam/opt/anaconda3/lib/python3.9/site-packages/seaborn/_decorators.py:36: FutureWarning: Pass the following variables as keyword args: x, y. From version 0.12, the only valid positional argument will be `data`, and passing other arguments without an explicit keyword will result in an error or misinterpretation.\n",
      "  warnings.warn(\n"
     ]
    },
    {
     "data": {
      "text/plain": [
       "<seaborn.axisgrid.JointGrid at 0x7fde4ad7a310>"
      ]
     },
     "execution_count": 23,
     "metadata": {},
     "output_type": "execute_result"
    },
    {
     "data": {
      "image/png": "[encoded data removed]",
      "text/plain": [
       "<Figure size 432x432 with 3 Axes>"
      ]
     },
     "metadata": {
      "needs_background": "light"
     },
     "output_type": "display_data"
    }
   ],
   "source": [
    "# Some plots\n",
    "sns.jointplot(WHO.GNI, WHO.LifeExpectancy)"
   ]
  },
  {
   "cell_type": "code",
   "execution_count": 24,
   "id": "c4cbb5c8",
   "metadata": {},
   "outputs": [
    {
     "data": {
      "text/plain": [
       "<AxesSubplot:xlabel='Region', ylabel='GNI'>"
      ]
     },
     "execution_count": 24,
     "metadata": {},
     "output_type": "execute_result"
    },
    {
     "data": {
      "image/png": "[encoded data removed]",
      "text/plain": [
       "<Figure size 432x288 with 1 Axes>"
      ]
     },
     "metadata": {
      "needs_background": "light"
     },
     "output_type": "display_data"
    }
   ],
   "source": [
    "sns.boxplot(x = 'Region', y = 'GNI', data = WHO, orient = 'v')"
   ]
  },
  {
   "cell_type": "code",
   "execution_count": 25,
   "id": "55c67065",
   "metadata": {},
   "outputs": [
    {
     "data": {
      "text/plain": [
       "<AxesSubplot:xlabel='LifeExp_group', ylabel='GNI'>"
      ]
     },
     "execution_count": 25,
     "metadata": {},
     "output_type": "execute_result"
    },
    {
     "data": {
      "image/png": "[encoded data removed]",
      "text/plain": [
       "<Figure size 432x288 with 1 Axes>"
      ]
     },
     "metadata": {
      "needs_background": "light"
     },
     "output_type": "display_data"
    }
   ],
   "source": [
    "# Discretizing Life Expectancy and comparing GNI\n",
    "bins = [0, 64, 73, 76, 100]\n",
    "WHO['LifeExp_group'] = pd.cut(WHO['LifeExpectancy'], bins)\n",
    "sns.boxplot(x = 'LifeExp_group', y = 'GNI', data = WHO, orient = 'v')"
   ]
  },
  {
   "cell_type": "code",
   "execution_count": 26,
   "id": "2d46d2d9",
   "metadata": {},
   "outputs": [
    {
     "data": {
      "text/html": [
       "<div>\n",
       "<style scoped>\n",
       "    .dataframe tbody tr th:only-of-type {\n",
       "        vertical-align: middle;\n",
       "    }\n",
       "\n",
       "    .dataframe tbody tr th {\n",
       "        vertical-align: top;\n",
       "    }\n",
       "\n",
       "    .dataframe thead th {\n",
       "        text-align: right;\n",
       "    }\n",
       "</style>\n",
       "<table border=\"1\" class=\"dataframe\">\n",
       "  <thead>\n",
       "    <tr style=\"text-align: right;\">\n",
       "      <th></th>\n",
       "      <th>count</th>\n",
       "      <th>mean</th>\n",
       "      <th>std</th>\n",
       "      <th>min</th>\n",
       "      <th>25%</th>\n",
       "      <th>50%</th>\n",
       "      <th>75%</th>\n",
       "      <th>max</th>\n",
       "    </tr>\n",
       "    <tr>\n",
       "      <th>LifeExp_group</th>\n",
       "      <th></th>\n",
       "      <th></th>\n",
       "      <th></th>\n",
       "      <th></th>\n",
       "      <th></th>\n",
       "      <th></th>\n",
       "      <th></th>\n",
       "      <th></th>\n",
       "    </tr>\n",
       "  </thead>\n",
       "  <tbody>\n",
       "    <tr>\n",
       "      <th>(0, 64]</th>\n",
       "      <td>52.0</td>\n",
       "      <td>4228.156822</td>\n",
       "      <td>5526.333866</td>\n",
       "      <td>340.0</td>\n",
       "      <td>1110.0</td>\n",
       "      <td>1730.00</td>\n",
       "      <td>4210.3125</td>\n",
       "      <td>25620.0</td>\n",
       "    </tr>\n",
       "    <tr>\n",
       "      <th>(64, 73]</th>\n",
       "      <td>51.0</td>\n",
       "      <td>6734.914566</td>\n",
       "      <td>4702.909091</td>\n",
       "      <td>950.0</td>\n",
       "      <td>3615.0</td>\n",
       "      <td>4771.25</td>\n",
       "      <td>9190.0000</td>\n",
       "      <td>20560.0</td>\n",
       "    </tr>\n",
       "    <tr>\n",
       "      <th>(73, 76]</th>\n",
       "      <td>43.0</td>\n",
       "      <td>14080.631229</td>\n",
       "      <td>7560.329243</td>\n",
       "      <td>3250.0</td>\n",
       "      <td>9110.0</td>\n",
       "      <td>13000.00</td>\n",
       "      <td>17035.0000</td>\n",
       "      <td>47890.0</td>\n",
       "    </tr>\n",
       "    <tr>\n",
       "      <th>(76, 100]</th>\n",
       "      <td>48.0</td>\n",
       "      <td>30121.278150</td>\n",
       "      <td>16584.200467</td>\n",
       "      <td>7430.0</td>\n",
       "      <td>16270.0</td>\n",
       "      <td>26810.00</td>\n",
       "      <td>39307.5000</td>\n",
       "      <td>86440.0</td>\n",
       "    </tr>\n",
       "  </tbody>\n",
       "</table>\n",
       "</div>"
      ],
      "text/plain": [
       "               count          mean           std     min      25%       50%  \\\n",
       "LifeExp_group                                                                 \n",
       "(0, 64]         52.0   4228.156822   5526.333866   340.0   1110.0   1730.00   \n",
       "(64, 73]        51.0   6734.914566   4702.909091   950.0   3615.0   4771.25   \n",
       "(73, 76]        43.0  14080.631229   7560.329243  3250.0   9110.0  13000.00   \n",
       "(76, 100]       48.0  30121.278150  16584.200467  7430.0  16270.0  26810.00   \n",
       "\n",
       "                      75%      max  \n",
       "LifeExp_group                       \n",
       "(0, 64]         4210.3125  25620.0  \n",
       "(64, 73]        9190.0000  20560.0  \n",
       "(73, 76]       17035.0000  47890.0  \n",
       "(76, 100]      39307.5000  86440.0  "
      ]
     },
     "execution_count": 26,
     "metadata": {},
     "output_type": "execute_result"
    }
   ],
   "source": [
    "## summary statistics of GNI.\n",
    "\n",
    "WHO.groupby('LifeExp_group')['GNI'].describe() "
   ]
  },
  {
   "cell_type": "markdown",
   "id": "0637cef2",
   "metadata": {},
   "source": [
    "Visualization: creating three individual plots using tools from the seaborn library (lmplot) that depict the relationship of GNI and the three variables identified in the previous task, and includes a linear regression line. Confirming visually whether it would be meaningful to assume that the relationship between GNI and other variables can be modeled using linear regression."
   ]
  },
  {
   "cell_type": "code",
   "execution_count": 27,
   "id": "aeaf2ca4",
   "metadata": {},
   "outputs": [
    {
     "name": "stderr",
     "output_type": "stream",
     "text": [
      "/Users/mdmominulislam/opt/anaconda3/lib/python3.9/site-packages/seaborn/_decorators.py:36: FutureWarning: Pass the following variables as keyword args: x, y, data. From version 0.12, the only valid positional argument will be `data`, and passing other arguments without an explicit keyword will result in an error or misinterpretation.\n",
      "  warnings.warn(\n"
     ]
    },
    {
     "data": {
      "text/plain": [
       "<seaborn.axisgrid.FacetGrid at 0x7fde4bb93340>"
      ]
     },
     "execution_count": 27,
     "metadata": {},
     "output_type": "execute_result"
    },
    {
     "data": {
      "image/png": "[encoded data removed]",
      "text/plain": [
       "<Figure size 360x360 with 1 Axes>"
      ]
     },
     "metadata": {
      "needs_background": "light"
     },
     "output_type": "display_data"
    }
   ],
   "source": [
    "## Visualization:\n",
    "# 3 chosen variables: LifeExpectancy, Under15, LiteracyRate that depict the relationship of GNI.\n",
    "sns.lmplot(\"LifeExpectancy\",\"GNI\",WHO)"
   ]
  },
  {
   "cell_type": "code",
   "execution_count": 28,
   "id": "7161c816",
   "metadata": {},
   "outputs": [
    {
     "name": "stderr",
     "output_type": "stream",
     "text": [
      "/Users/mdmominulislam/opt/anaconda3/lib/python3.9/site-packages/seaborn/_decorators.py:36: FutureWarning: Pass the following variables as keyword args: x, y, data. From version 0.12, the only valid positional argument will be `data`, and passing other arguments without an explicit keyword will result in an error or misinterpretation.\n",
      "  warnings.warn(\n"
     ]
    },
    {
     "data": {
      "text/plain": [
       "<seaborn.axisgrid.FacetGrid at 0x7fde4ba70df0>"
      ]
     },
     "execution_count": 28,
     "metadata": {},
     "output_type": "execute_result"
    },
    {
     "data": {
      "image/png": "[encoded data removed]",
      "text/plain": [
       "<Figure size 360x360 with 1 Axes>"
      ]
     },
     "metadata": {
      "needs_background": "light"
     },
     "output_type": "display_data"
    }
   ],
   "source": [
    "sns.lmplot(\"Under15\",\"GNI\",WHO)"
   ]
  },
  {
   "cell_type": "code",
   "execution_count": 29,
   "id": "5439003b",
   "metadata": {},
   "outputs": [
    {
     "name": "stderr",
     "output_type": "stream",
     "text": [
      "/Users/mdmominulislam/opt/anaconda3/lib/python3.9/site-packages/seaborn/_decorators.py:36: FutureWarning: Pass the following variables as keyword args: x, y, data. From version 0.12, the only valid positional argument will be `data`, and passing other arguments without an explicit keyword will result in an error or misinterpretation.\n",
      "  warnings.warn(\n"
     ]
    },
    {
     "data": {
      "text/plain": [
       "<seaborn.axisgrid.FacetGrid at 0x7fde4bd0c5b0>"
      ]
     },
     "execution_count": 29,
     "metadata": {},
     "output_type": "execute_result"
    },
    {
     "data": {
      "image/png": "[encoded data removed]",
      "text/plain": [
       "<Figure size 360x360 with 1 Axes>"
      ]
     },
     "metadata": {
      "needs_background": "light"
     },
     "output_type": "display_data"
    }
   ],
   "source": [
    "sns.lmplot(\"LiteracyRate\",\"GNI\",WHO)"
   ]
  },
  {
   "cell_type": "code",
   "execution_count": null,
   "id": "688357ca",
   "metadata": {},
   "outputs": [],
   "source": []
  }
 ],
 "metadata": {
  "kernelspec": {
   "display_name": "Python 3 (ipykernel)",
   "language": "python",
   "name": "python3"
  },
  "language_info": {
   "codemirror_mode": {
    "name": "ipython",
    "version": 3
   },
   "file_extension": ".py",
   "mimetype": "text/x-python",
   "name": "python",
   "nbconvert_exporter": "python",
   "pygments_lexer": "ipython3",
   "version": "3.9.7"
  }
 },
 "nbformat": 4,
 "nbformat_minor": 5
}
